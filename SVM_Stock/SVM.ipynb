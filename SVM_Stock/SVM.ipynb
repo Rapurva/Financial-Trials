{
  "nbformat": 4,
  "nbformat_minor": 0,
  "metadata": {
    "colab": {
      "name": "SVM.ipynb",
      "provenance": []
    },
    "kernelspec": {
      "name": "python3",
      "display_name": "Python 3"
    }
  },
  "cells": [
    {
      "cell_type": "code",
      "metadata": {
        "id": "FjanH8hm8svN",
        "colab_type": "code",
        "colab": {}
      },
      "source": [
        "#Description: This program predicts the price of FB stock for a specific day\n",
        "#             using the Machine Learning algorithm called \n",
        "#             Support Vector Regression (SVR) Model"
      ],
      "execution_count": 0,
      "outputs": []
    },
    {
      "cell_type": "code",
      "metadata": {
        "id": "t6y03Lsd89DA",
        "colab_type": "code",
        "colab": {}
      },
      "source": [
        "#import the packages\n",
        "import pandas as pd\n",
        "import numpy as np\n",
        "from sklearn.svm import SVR\n",
        "import matplotlib.pyplot as plt"
      ],
      "execution_count": 0,
      "outputs": []
    },
    {
      "cell_type": "code",
      "metadata": {
        "id": "_wMcugp9_9nx",
        "colab_type": "code",
        "colab": {}
      },
      "source": [
        "#Function to make predictions using 3 different support vector regression models with 3 different kernals\n",
        "def predict_prices(dates, prices, x):\n",
        "  \n",
        "  #Create 3 Support Vector Regression Models\n",
        "  svr_lin = SVR(kernel='linear', C=1e3)\n",
        "  svr_poly = SVR(kernel='poly', C=1e3, degree=2)\n",
        "  svr_rbf = SVR(kernel='rbf', C=1e3, gamma=0.1)\n",
        "  \n",
        "  #Train the models on the dates and prices\n",
        "  svr_lin.fit(dates,prices)\n",
        "  svr_poly.fit(dates, prices)\n",
        "  svr_rbf.fit(dates, prices)\n",
        "  \n",
        "  #Plot the models on a graph to see which has the best fit\n",
        "  plt.scatter(dates, prices, color = 'black', label='Data')\n",
        "  plt.plot(dates, svr_rbf.predict(dates), color = 'red', label='RBF model')\n",
        "  plt.plot(dates, svr_lin.predict(dates), color = 'green', label='Linear model')\n",
        "  plt.plot(dates, svr_poly.predict(dates), color = 'blue', label='Polynomial model')\n",
        "  plt.xlabel('Date')\n",
        "  plt.ylabel('Price')\n",
        "  plt.title('Support Vector Regression')\n",
        "  plt.legend()\n",
        "  plt.show()\n",
        "  \n",
        "  #return all three model predictions\n",
        "  return svr_rbf.predict(x)[0], svr_lin.predict(x)[0], svr_poly.predict(x)[0]"
      ],
      "execution_count": 0,
      "outputs": []
    },
    {
      "cell_type": "code",
      "metadata": {
        "id": "NSUaSoZ6GQ5P",
        "colab_type": "code",
        "colab": {
          "base_uri": "https://localhost:8080/",
          "height": 225
        },
        "outputId": "6302c714-304c-4164-8f4f-6c254860b4dc"
      },
      "source": [
        "import pandas_datareader as web\n",
        "stock = 'NATCOPHARM.BO'\n",
        "stdate = '2019-11-01'\n",
        "endate = '2020-01-07'\n",
        "#Get the Stock Quote: The price of a stock as quoted on an exchange\n",
        "df = web.DataReader(stock, data_source='yahoo', start=stdate, end=endate) #end = '2017-12-31', format = 'YYYY-MM-DD'\n",
        "#Show the data\n",
        "df.tail()"
      ],
      "execution_count": 31,
      "outputs": [
        {
          "output_type": "execute_result",
          "data": {
            "text/html": [
              "<div>\n",
              "<style scoped>\n",
              "    .dataframe tbody tr th:only-of-type {\n",
              "        vertical-align: middle;\n",
              "    }\n",
              "\n",
              "    .dataframe tbody tr th {\n",
              "        vertical-align: top;\n",
              "    }\n",
              "\n",
              "    .dataframe thead th {\n",
              "        text-align: right;\n",
              "    }\n",
              "</style>\n",
              "<table border=\"1\" class=\"dataframe\">\n",
              "  <thead>\n",
              "    <tr style=\"text-align: right;\">\n",
              "      <th></th>\n",
              "      <th>High</th>\n",
              "      <th>Low</th>\n",
              "      <th>Open</th>\n",
              "      <th>Close</th>\n",
              "      <th>Volume</th>\n",
              "      <th>Adj Close</th>\n",
              "    </tr>\n",
              "    <tr>\n",
              "      <th>Date</th>\n",
              "      <th></th>\n",
              "      <th></th>\n",
              "      <th></th>\n",
              "      <th></th>\n",
              "      <th></th>\n",
              "      <th></th>\n",
              "    </tr>\n",
              "  </thead>\n",
              "  <tbody>\n",
              "    <tr>\n",
              "      <th>2020-01-02</th>\n",
              "      <td>632.349976</td>\n",
              "      <td>618.299988</td>\n",
              "      <td>620.000000</td>\n",
              "      <td>620.700012</td>\n",
              "      <td>14487.0</td>\n",
              "      <td>620.700012</td>\n",
              "    </tr>\n",
              "    <tr>\n",
              "      <th>2020-01-03</th>\n",
              "      <td>620.000000</td>\n",
              "      <td>606.799988</td>\n",
              "      <td>620.000000</td>\n",
              "      <td>608.500000</td>\n",
              "      <td>6003.0</td>\n",
              "      <td>608.500000</td>\n",
              "    </tr>\n",
              "    <tr>\n",
              "      <th>2020-01-06</th>\n",
              "      <td>612.000000</td>\n",
              "      <td>594.000000</td>\n",
              "      <td>610.799988</td>\n",
              "      <td>605.549988</td>\n",
              "      <td>3880.0</td>\n",
              "      <td>605.549988</td>\n",
              "    </tr>\n",
              "    <tr>\n",
              "      <th>2020-01-07</th>\n",
              "      <td>609.099976</td>\n",
              "      <td>598.299988</td>\n",
              "      <td>609.099976</td>\n",
              "      <td>600.750000</td>\n",
              "      <td>8317.0</td>\n",
              "      <td>600.750000</td>\n",
              "    </tr>\n",
              "    <tr>\n",
              "      <th>2020-01-08</th>\n",
              "      <td>614.000000</td>\n",
              "      <td>594.500000</td>\n",
              "      <td>597.450012</td>\n",
              "      <td>599.700012</td>\n",
              "      <td>6943.0</td>\n",
              "      <td>599.700012</td>\n",
              "    </tr>\n",
              "  </tbody>\n",
              "</table>\n",
              "</div>"
            ],
            "text/plain": [
              "                  High         Low        Open       Close   Volume   Adj Close\n",
              "Date                                                                           \n",
              "2020-01-02  632.349976  618.299988  620.000000  620.700012  14487.0  620.700012\n",
              "2020-01-03  620.000000  606.799988  620.000000  608.500000   6003.0  608.500000\n",
              "2020-01-06  612.000000  594.000000  610.799988  605.549988   3880.0  605.549988\n",
              "2020-01-07  609.099976  598.299988  609.099976  600.750000   8317.0  600.750000\n",
              "2020-01-08  614.000000  594.500000  597.450012  599.700012   6943.0  599.700012"
            ]
          },
          "metadata": {
            "tags": []
          },
          "execution_count": 31
        }
      ]
    },
    {
      "cell_type": "code",
      "metadata": {
        "id": "97GbosUqGQ1L",
        "colab_type": "code",
        "colab": {
          "base_uri": "https://localhost:8080/",
          "height": 34
        },
        "outputId": "12696e93-c7ef-420e-d9a3-545bd9550667"
      },
      "source": [
        "df.reset_index(level=0, inplace=True)\n",
        "#Get the number of rows and columns in the data set\n",
        "df.shape"
      ],
      "execution_count": 32,
      "outputs": [
        {
          "output_type": "execute_result",
          "data": {
            "text/plain": [
              "(46, 7)"
            ]
          },
          "metadata": {
            "tags": []
          },
          "execution_count": 32
        }
      ]
    },
    {
      "cell_type": "code",
      "metadata": {
        "id": "W4HdaDAe9ync",
        "colab_type": "code",
        "colab": {}
      },
      "source": [
        "#Create the lists / X and y data set\n",
        "dates = []\n",
        "prices = []"
      ],
      "execution_count": 0,
      "outputs": []
    },
    {
      "cell_type": "code",
      "metadata": {
        "id": "u89jlYNx-OmV",
        "colab_type": "code",
        "outputId": "6992b4f4-d3e0-4b85-8949-74742e7ec553",
        "colab": {
          "base_uri": "https://localhost:8080/",
          "height": 77
        }
      },
      "source": [
        "#Print the last row of data (this will be the data that we test on)\n",
        "df.tail(1)"
      ],
      "execution_count": 34,
      "outputs": [
        {
          "output_type": "execute_result",
          "data": {
            "text/html": [
              "<div>\n",
              "<style scoped>\n",
              "    .dataframe tbody tr th:only-of-type {\n",
              "        vertical-align: middle;\n",
              "    }\n",
              "\n",
              "    .dataframe tbody tr th {\n",
              "        vertical-align: top;\n",
              "    }\n",
              "\n",
              "    .dataframe thead th {\n",
              "        text-align: right;\n",
              "    }\n",
              "</style>\n",
              "<table border=\"1\" class=\"dataframe\">\n",
              "  <thead>\n",
              "    <tr style=\"text-align: right;\">\n",
              "      <th></th>\n",
              "      <th>Date</th>\n",
              "      <th>High</th>\n",
              "      <th>Low</th>\n",
              "      <th>Open</th>\n",
              "      <th>Close</th>\n",
              "      <th>Volume</th>\n",
              "      <th>Adj Close</th>\n",
              "    </tr>\n",
              "  </thead>\n",
              "  <tbody>\n",
              "    <tr>\n",
              "      <th>45</th>\n",
              "      <td>2020-01-08</td>\n",
              "      <td>614.0</td>\n",
              "      <td>594.5</td>\n",
              "      <td>597.450012</td>\n",
              "      <td>599.700012</td>\n",
              "      <td>6943.0</td>\n",
              "      <td>599.700012</td>\n",
              "    </tr>\n",
              "  </tbody>\n",
              "</table>\n",
              "</div>"
            ],
            "text/plain": [
              "         Date   High    Low        Open       Close  Volume   Adj Close\n",
              "45 2020-01-08  614.0  594.5  597.450012  599.700012  6943.0  599.700012"
            ]
          },
          "metadata": {
            "tags": []
          },
          "execution_count": 34
        }
      ]
    },
    {
      "cell_type": "code",
      "metadata": {
        "id": "1LvlTeis-d3q",
        "colab_type": "code",
        "outputId": "d4e50ba9-7f2f-436e-c649-7c2b14824762",
        "colab": {
          "base_uri": "https://localhost:8080/",
          "height": 34
        }
      },
      "source": [
        "#Get all of the data except for the last row\n",
        "df = df.head(len(df)-1)\n",
        "print(df.shape)"
      ],
      "execution_count": 35,
      "outputs": [
        {
          "output_type": "stream",
          "text": [
            "(45, 7)\n"
          ],
          "name": "stdout"
        }
      ]
    },
    {
      "cell_type": "code",
      "metadata": {
        "id": "y78lHMfC-uYO",
        "colab_type": "code",
        "colab": {}
      },
      "source": [
        "df_dates = df.loc[:,'Date'] # Get all of the rows from the Date column\n",
        "df_open = df.loc[:,'Open'] #Get all of the rows from the Open column"
      ],
      "execution_count": 0,
      "outputs": []
    },
    {
      "cell_type": "code",
      "metadata": {
        "id": "SC8zRj3DH_zC",
        "colab_type": "code",
        "colab": {
          "base_uri": "https://localhost:8080/",
          "height": 54
        },
        "outputId": "eee3c531-53b2-4fd2-bfae-54099776ab1b"
      },
      "source": [
        "#Create the dependent data set 'y' as prices\n",
        "for open_price in df_open:\n",
        "  prices.append(float(open_price))\n",
        "  #Create the independent data set 'X' as dates\n",
        "from datetime import datetime\n",
        "for date in df_dates:\n",
        "  dates.append( [date.day] )\n",
        "  #See what days were recoreded in teh data set\n",
        "print(dates)"
      ],
      "execution_count": 37,
      "outputs": [
        {
          "output_type": "stream",
          "text": [
            "[[1], [5], [6], [7], [8], [11], [13], [14], [15], [18], [19], [20], [21], [22], [25], [26], [27], [28], [29], [2], [3], [4], [5], [6], [9], [10], [11], [12], [13], [16], [17], [18], [19], [20], [23], [24], [26], [27], [30], [31], [1], [2], [3], [6], [7]]\n"
          ],
          "name": "stdout"
        }
      ]
    },
    {
      "cell_type": "code",
      "metadata": {
        "id": "NrZylax7CH21",
        "colab_type": "code",
        "outputId": "8d72d9aa-5d11-4dbb-e86b-ed0ced307a66",
        "colab": {
          "base_uri": "https://localhost:8080/",
          "height": 313
        }
      },
      "source": [
        "#Predict the price of FB on day 31\n",
        "predicted_price = predict_prices(dates, prices, [[9]])\n",
        "print(predicted_price)"
      ],
      "execution_count": 38,
      "outputs": [
        {
          "output_type": "display_data",
          "data": {
            "image/png": "[encoded data removed]",
            "text/plain": [
              "<Figure size 432x288 with 1 Axes>"
            ]
          },
          "metadata": {
            "tags": []
          }
        },
        {
          "output_type": "stream",
          "text": [
            "(585.2086359037947, 587.2562393188557, 585.8957468129922)\n"
          ],
          "name": "stdout"
        }
      ]
    }
  ]
}