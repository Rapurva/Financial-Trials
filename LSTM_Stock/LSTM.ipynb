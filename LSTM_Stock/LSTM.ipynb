{
  "nbformat": 4,
  "nbformat_minor": 0,
  "metadata": {
    "colab": {
      "name": "LSTM.ipynb",
      "provenance": []
    },
    "kernelspec": {
      "name": "python3",
      "display_name": "Python 3"
    }
  },
  "cells": [
    {
      "cell_type": "code",
      "metadata": {
        "id": "YYeDb1g8ibVW",
        "colab_type": "code",
        "outputId": "87e6b31b-607f-4f9e-8616-83e363c7e5ae",
        "colab": {
          "base_uri": "https://localhost:8080/",
          "height": 54
        }
      },
      "source": [
        "'''\n",
        "Long short-term memory (LSTM) is an artificial recurrent neural network (RNN) architecture used in the field of deep learning. \n",
        "Unlike standard feedforward neural networks, LSTM has feedback connections. \n",
        "It can not only process single data points (such as images), but also entire sequences of data (such as speech or video). --Wikipedia\n",
        "\n",
        "LSTMs are widely used for sequence prediction problems and have proven to be extremely effective.\n",
        "The reason they work so well is because LSTM is able to store past information that is important, and forget the information that is not. -Stackabuse.com\n",
        "\n",
        "Common Architecture of LSTM:\n",
        "Forget Gate\n",
        "Input Gate\n",
        "Output Gate\n",
        "\n",
        "'''"
      ],
      "execution_count": 0,
      "outputs": [
        {
          "output_type": "execute_result",
          "data": {
            "text/plain": [
              "'\\nLong short-term memory (LSTM) is an artificial recurrent neural network (RNN) architecture used in the field of deep learning. \\nUnlike standard feedforward neural networks, LSTM has feedback connections. \\nIt can not only process single data points (such as images), but also entire sequences of data (such as speech or video). --Wikipedia\\n\\nLSTMs are widely used for sequence prediction problems and have proven to be extremely effective.\\nThe reason they work so well is because LSTM is able to store past information that is important, and forget the information that is not. -Stackabuse.com\\n\\nCommon Architecture of LSTM:\\nForget Gate\\nInput Gate\\nOutput Gate\\n\\n'"
            ]
          },
          "metadata": {
            "tags": []
          },
          "execution_count": 1
        }
      ]
    },
    {
      "cell_type": "code",
      "metadata": {
        "id": "lf-PSxMrigHO",
        "colab_type": "code",
        "colab": {}
      },
      "source": [
        "# Description: This program uses an artificial recurrent neural network called Long Short Term Memory (LSTM) \n",
        "#              to predict the closing stock price of a corporation using the past 60 day stock price.\n",
        "#              \n",
        "#\n",
        "# Resources: https://www.analyticsvidhya.com/blog/2018/10/predicting-stock-price-machine-learningnd-deep-learning-techniques-python/\n",
        "#            https://stackabuse.com/time-series-analysis-with-lstm-using-pythons-keras-library/\n",
        "#            https://www.analyticsvidhya.com/blog/2017/12/fundamentals-of-deep-learning-introduction-to-lstm/\n",
        "#            https://en.wikipedia.org/wiki/Long_short-term_memory\n",
        "#            https://machinelearningmastery.com/how-to-improve-neural-network-stability-and-modeling-performance-with-data-scaling/\n",
        "#            https://medium.com/@dclengacher/keras-lstm-recurrent-neural-networks-c1f5febde03d "
      ],
      "execution_count": 0,
      "outputs": []
    },
    {
      "cell_type": "code",
      "metadata": {
        "id": "68jw7pEtin6V",
        "colab_type": "code",
        "outputId": "bf04465d-1fd5-40a7-f32e-f88d8849081b",
        "colab": {
          "base_uri": "https://localhost:8080/",
          "height": 81
        }
      },
      "source": [
        "#Import the libraries\n",
        "import math\n",
        "import pandas_datareader as web\n",
        "import numpy as np\n",
        "import pandas as pd\n",
        "from sklearn.preprocessing import MinMaxScaler\n",
        "from keras.models import Sequential\n",
        "from keras.layers import Dense, LSTM\n",
        "import matplotlib.pyplot as plt\n",
        "plt.style.use('fivethirtyeight')"
      ],
      "execution_count": 1,
      "outputs": [
        {
          "output_type": "stream",
          "text": [
            "Using TensorFlow backend.\n"
          ],
          "name": "stderr"
        },
        {
          "output_type": "display_data",
          "data": {
            "text/html": [
              "<p style=\"color: red;\">\n",
              "The default version of TensorFlow in Colab will soon switch to TensorFlow 2.x.<br>\n",
              "We recommend you <a href=\"https://www.tensorflow.org/guide/migrate\" target=\"_blank\">upgrade</a> now \n",
              "or ensure your notebook will continue to use TensorFlow 1.x via the <code>%tensorflow_version 1.x</code> magic:\n",
              "<a href=\"https://colab.research.google.com/notebooks/tensorflow_version.ipynb\" target=\"_blank\">more info</a>.</p>\n"
            ],
            "text/plain": [
              "<IPython.core.display.HTML object>"
            ]
          },
          "metadata": {
            "tags": []
          }
        }
      ]
    },
    {
      "cell_type": "code",
      "metadata": {
        "id": "eQbLBmbIi6VV",
        "colab_type": "code",
        "outputId": "4660846b-f9aa-4ba1-e1ce-8c8dc87b7183",
        "colab": {
          "base_uri": "https://localhost:8080/",
          "height": 431
        }
      },
      "source": [
        "stock = 'TATAPOWER.NS'\n",
        "stdate = '2019-01-01'\n",
        "endate = '2020-01-08'\n",
        "#Get the Stock Quote: The price of a stock as quoted on an exchange\n",
        "df = web.DataReader(stock, data_source='yahoo', start=stdate, end=endate) #end = '2017-12-31', format = 'YYYY-MM-DD'\n",
        "#Show the data\n",
        "df"
      ],
      "execution_count": 37,
      "outputs": [
        {
          "output_type": "execute_result",
          "data": {
            "text/html": [
              "<div>\n",
              "<style scoped>\n",
              "    .dataframe tbody tr th:only-of-type {\n",
              "        vertical-align: middle;\n",
              "    }\n",
              "\n",
              "    .dataframe tbody tr th {\n",
              "        vertical-align: top;\n",
              "    }\n",
              "\n",
              "    .dataframe thead th {\n",
              "        text-align: right;\n",
              "    }\n",
              "</style>\n",
              "<table border=\"1\" class=\"dataframe\">\n",
              "  <thead>\n",
              "    <tr style=\"text-align: right;\">\n",
              "      <th></th>\n",
              "      <th>High</th>\n",
              "      <th>Low</th>\n",
              "      <th>Open</th>\n",
              "      <th>Close</th>\n",
              "      <th>Volume</th>\n",
              "      <th>Adj Close</th>\n",
              "    </tr>\n",
              "    <tr>\n",
              "      <th>Date</th>\n",
              "      <th></th>\n",
              "      <th></th>\n",
              "      <th></th>\n",
              "      <th></th>\n",
              "      <th></th>\n",
              "      <th></th>\n",
              "    </tr>\n",
              "  </thead>\n",
              "  <tbody>\n",
              "    <tr>\n",
              "      <th>2019-01-01</th>\n",
              "      <td>77.250000</td>\n",
              "      <td>76.300003</td>\n",
              "      <td>77.000000</td>\n",
              "      <td>76.699997</td>\n",
              "      <td>2153622.0</td>\n",
              "      <td>73.774712</td>\n",
              "    </tr>\n",
              "    <tr>\n",
              "      <th>2019-01-02</th>\n",
              "      <td>76.949997</td>\n",
              "      <td>74.400002</td>\n",
              "      <td>76.800003</td>\n",
              "      <td>74.849998</td>\n",
              "      <td>2504768.0</td>\n",
              "      <td>71.995270</td>\n",
              "    </tr>\n",
              "    <tr>\n",
              "      <th>2019-01-03</th>\n",
              "      <td>76.250000</td>\n",
              "      <td>73.849998</td>\n",
              "      <td>76.000000</td>\n",
              "      <td>74.199997</td>\n",
              "      <td>4583837.0</td>\n",
              "      <td>71.370064</td>\n",
              "    </tr>\n",
              "    <tr>\n",
              "      <th>2019-01-04</th>\n",
              "      <td>75.550003</td>\n",
              "      <td>73.699997</td>\n",
              "      <td>74.300003</td>\n",
              "      <td>75.050003</td>\n",
              "      <td>3170169.0</td>\n",
              "      <td>72.187645</td>\n",
              "    </tr>\n",
              "    <tr>\n",
              "      <th>2019-01-07</th>\n",
              "      <td>75.750000</td>\n",
              "      <td>74.250000</td>\n",
              "      <td>75.449997</td>\n",
              "      <td>74.699997</td>\n",
              "      <td>1691362.0</td>\n",
              "      <td>71.850998</td>\n",
              "    </tr>\n",
              "    <tr>\n",
              "      <th>...</th>\n",
              "      <td>...</td>\n",
              "      <td>...</td>\n",
              "      <td>...</td>\n",
              "      <td>...</td>\n",
              "      <td>...</td>\n",
              "      <td>...</td>\n",
              "    </tr>\n",
              "    <tr>\n",
              "      <th>2020-01-03</th>\n",
              "      <td>58.549999</td>\n",
              "      <td>57.299999</td>\n",
              "      <td>58.000000</td>\n",
              "      <td>57.750000</td>\n",
              "      <td>9746134.0</td>\n",
              "      <td>57.750000</td>\n",
              "    </tr>\n",
              "    <tr>\n",
              "      <th>2020-01-06</th>\n",
              "      <td>57.500000</td>\n",
              "      <td>55.950001</td>\n",
              "      <td>57.049999</td>\n",
              "      <td>56.750000</td>\n",
              "      <td>3833784.0</td>\n",
              "      <td>56.750000</td>\n",
              "    </tr>\n",
              "    <tr>\n",
              "      <th>2020-01-07</th>\n",
              "      <td>57.549999</td>\n",
              "      <td>56.049999</td>\n",
              "      <td>57.099998</td>\n",
              "      <td>56.599998</td>\n",
              "      <td>3974582.0</td>\n",
              "      <td>56.599998</td>\n",
              "    </tr>\n",
              "    <tr>\n",
              "      <th>2020-01-08</th>\n",
              "      <td>56.750000</td>\n",
              "      <td>55.700001</td>\n",
              "      <td>56.000000</td>\n",
              "      <td>56.250000</td>\n",
              "      <td>3078671.0</td>\n",
              "      <td>56.250000</td>\n",
              "    </tr>\n",
              "    <tr>\n",
              "      <th>2020-01-09</th>\n",
              "      <td>58.200001</td>\n",
              "      <td>56.549999</td>\n",
              "      <td>56.549999</td>\n",
              "      <td>58.099998</td>\n",
              "      <td>4087863.0</td>\n",
              "      <td>58.099998</td>\n",
              "    </tr>\n",
              "  </tbody>\n",
              "</table>\n",
              "<p>249 rows × 6 columns</p>\n",
              "</div>"
            ],
            "text/plain": [
              "                 High        Low       Open      Close     Volume  Adj Close\n",
              "Date                                                                        \n",
              "2019-01-01  77.250000  76.300003  77.000000  76.699997  2153622.0  73.774712\n",
              "2019-01-02  76.949997  74.400002  76.800003  74.849998  2504768.0  71.995270\n",
              "2019-01-03  76.250000  73.849998  76.000000  74.199997  4583837.0  71.370064\n",
              "2019-01-04  75.550003  73.699997  74.300003  75.050003  3170169.0  72.187645\n",
              "2019-01-07  75.750000  74.250000  75.449997  74.699997  1691362.0  71.850998\n",
              "...               ...        ...        ...        ...        ...        ...\n",
              "2020-01-03  58.549999  57.299999  58.000000  57.750000  9746134.0  57.750000\n",
              "2020-01-06  57.500000  55.950001  57.049999  56.750000  3833784.0  56.750000\n",
              "2020-01-07  57.549999  56.049999  57.099998  56.599998  3974582.0  56.599998\n",
              "2020-01-08  56.750000  55.700001  56.000000  56.250000  3078671.0  56.250000\n",
              "2020-01-09  58.200001  56.549999  56.549999  58.099998  4087863.0  58.099998\n",
              "\n",
              "[249 rows x 6 columns]"
            ]
          },
          "metadata": {
            "tags": []
          },
          "execution_count": 37
        }
      ]
    },
    {
      "cell_type": "code",
      "metadata": {
        "id": "IayE9gpijH3d",
        "colab_type": "code",
        "outputId": "6d53d62b-b3fa-4074-ae51-c8464bf3fd90",
        "colab": {
          "base_uri": "https://localhost:8080/",
          "height": 34
        }
      },
      "source": [
        "#Show the number of rows and columns in the data\n",
        "#The data frame has 2004 rows of data and 6 columns\n",
        "df.shape"
      ],
      "execution_count": 38,
      "outputs": [
        {
          "output_type": "execute_result",
          "data": {
            "text/plain": [
              "(249, 6)"
            ]
          },
          "metadata": {
            "tags": []
          },
          "execution_count": 38
        }
      ]
    },
    {
      "cell_type": "code",
      "metadata": {
        "id": "sTLbwEB-jSY_",
        "colab_type": "code",
        "colab": {}
      },
      "source": [
        "#Visualize the closing price history\n",
        "plt.figure(figsize=(16,8))\n",
        "plt.title('Close Price History')\n",
        "plt.plot(df['Close'])\n",
        "plt.xlabel('Date',fontsize=18)\n",
        "plt.ylabel('Close Price USD ($)',fontsize=18)\n",
        "plt.show()"
      ],
      "execution_count": 0,
      "outputs": []
    },
    {
      "cell_type": "code",
      "metadata": {
        "id": "-KLhwghSl-PA",
        "colab_type": "code",
        "colab": {}
      },
      "source": [
        "#Create a new dataframe with only the 'Close' column\n",
        "data = df.filter(['Close'])\n",
        "#Converting the dataframe to a numpy array\n",
        "dataset = data.values\n",
        "#Get /Compute the number of rows to train the model on\n",
        "#That is equivalently the length that we want the training data set to have \n",
        "# and equivalently it is equal to the ending index - 1 of the training data set\n",
        "training_data_len = math.ceil( len(dataset) *.8) # Length is about 80% of the original data, which is 2003 * .8 = 1603 rounded up\n"
      ],
      "execution_count": 0,
      "outputs": []
    },
    {
      "cell_type": "code",
      "metadata": {
        "id": "KD6E0tB3mav_",
        "colab_type": "code",
        "colab": {}
      },
      "source": [
        "#Scale the all of the data to be values between 0 and 1\n",
        "#In practice it is nearly always advantageous to apply pre-processing transformations/ scaling/ normalization to the input data before it is presented to a network. \n",
        "scaler = MinMaxScaler(feature_range=(0, 1))\n",
        "scaled_data = scaler.fit_transform(dataset) #Compute the minimum and maximum to be used for later scaling to data, then transform it."
      ],
      "execution_count": 0,
      "outputs": []
    },
    {
      "cell_type": "code",
      "metadata": {
        "id": "CN4qHfiTml6H",
        "colab_type": "code",
        "colab": {}
      },
      "source": [
        "#Create the training data set\n",
        "#Create the scaled training data set :  a new array containing the scaled values from index 0 to 1602\n",
        "train_data = scaled_data[0:training_data_len  , : ]\n",
        "#Split the data into x_train and y_train data sets\n",
        "x_train=[]\n",
        "y_train = []\n",
        "for i in range(60,len(train_data)):\n",
        "    x_train.append(train_data[i-60:i,0])#The independent training variables or training feature set 'X' (holds the stock price value for the past 60 days at position 'i-60')\n",
        "    y_train.append(train_data[i,0])#The dependent training variables, or target, or training label set 'Y' (holds the stock price at the 61st day at position 'i-60')\n",
        "#Convert x_train and y_train to numpy arrays so we can use them for training the LSTM model\n",
        "x_train, y_train = np.array(x_train), np.array(y_train)\n",
        "\n",
        "#A LSTM network expects the input to be 3-Dimensional in the form [samples, time steps, features]:\n",
        "# samples is the number of data points (or rows/ records) we have, \n",
        "# time steps is the number of time-dependent steps that are there in a single data point (60),\n",
        "# features/indicators refers to the number of variables we have for the corresponding true value in Y, since we are only using one feature 'Close',\n",
        "# the number of features/indicators will be one\n",
        "#Reshape the data into the shape accepted by the LSTM\n",
        "x_train = np.reshape(x_train, (x_train.shape[0],x_train.shape[1],1))"
      ],
      "execution_count": 0,
      "outputs": []
    },
    {
      "cell_type": "code",
      "metadata": {
        "id": "6naftY_2mtun",
        "colab_type": "code",
        "colab": {}
      },
      "source": [
        "#Build the LSTM network model\n",
        "model = Sequential()\n",
        "#First LSTM layer, input_shape = the number of time steps (60 or x_train.shape[1]) while the last parameter is the number of features (1)\n",
        "model.add(LSTM(units=50, return_sequences=True, input_shape=(x_train.shape[1],1))) #Units=number of neurons, return_sequences is set to true since we will add more layers to the model.\n",
        "model.add(LSTM(units=50, return_sequences=False)) #LSTM layer with 50 neurons, return sequence by default is False but I put it here just to show\n",
        "model.add(Dense(units=25)) #Just your regular densely-connected Neural Network layer with 25 neurons\n",
        "model.add(Dense(units=1)) #Just your regular densely-connected Neural Network layer with 1 neuron"
      ],
      "execution_count": 0,
      "outputs": []
    },
    {
      "cell_type": "code",
      "metadata": {
        "id": "xyi2HWXGmzQO",
        "colab_type": "code",
        "colab": {}
      },
      "source": [
        "#Compile the model\n",
        "# optimizer = adam and the optimizer is used to improve upon the loss\n",
        "# loss function = mean_squared_error (MSE) and loss functions are used to measure how well the model did on training\n",
        "model.compile(optimizer='adam', loss='mean_squared_error')"
      ],
      "execution_count": 0,
      "outputs": []
    },
    {
      "cell_type": "code",
      "metadata": {
        "id": "T6UmQtTdm2nu",
        "colab_type": "code",
        "outputId": "3700fb5f-6f55-4799-f1ea-cc2e1c316f22",
        "colab": {
          "base_uri": "https://localhost:8080/",
          "height": 70
        }
      },
      "source": [
        "#Fit / Train the model\n",
        "#Batch Size: Total number of training examples present in a single batch\n",
        "#Epoch:The number of iterations when an ENTIRE dataset is passed forward and backward through the neural network .\n",
        "#Fit: Another word for train\n",
        "model.fit(x_train, y_train, batch_size=1, epochs=1)"
      ],
      "execution_count": 45,
      "outputs": [
        {
          "output_type": "stream",
          "text": [
            "Epoch 1/1\n",
            "140/140 [==============================] - 12s 84ms/step - loss: 0.0241\n"
          ],
          "name": "stdout"
        },
        {
          "output_type": "execute_result",
          "data": {
            "text/plain": [
              "<keras.callbacks.History at 0x7f6e5bb6a048>"
            ]
          },
          "metadata": {
            "tags": []
          },
          "execution_count": 45
        }
      ]
    },
    {
      "cell_type": "code",
      "metadata": {
        "id": "qmCGkarVnUbn",
        "colab_type": "code",
        "colab": {}
      },
      "source": [
        "#Create the testing data set\n",
        "#Create the scaled testing data set : a new array containing the scaled values from index 1543 to 2002 of the dataframe, for a total length of 460, using the past 60 days\n",
        "test_data = scaled_data[training_data_len - 60: , : ]\n",
        "#Create the x_test and y_test data sets\n",
        "x_test = []\n",
        "y_test =  dataset[training_data_len : , : ] #Get all of the rows from index 1603 to the rest and all of the columns (in this case it's only column 'Close'), so 2003 - 1603 = 400 rows of data\n",
        "for i in range(60,len(test_data)):\n",
        "    x_test.append(test_data[i-60:i,0])#The independent testing variables or testing feature set 'X' (holds the stock price value for the past 60 days at position 'i-60')\n",
        "#Convert x_test to a numpy array so we can use it to test and make predictions using the LSTM model we created\n",
        "x_test = np.array(x_test)\n",
        "\n",
        "#A LSTM network expects the input to be 3-Dimensional in the form [samples, time steps, features]:\n",
        "# samples is the number of data points (or rows/ records) we have, \n",
        "# time steps is the number of time-dependent steps that are there in a single data point (60),\n",
        "# features/indicators refers to the number of variables we have for the corresponding true value in Y, since we are only using one feature 'Close',\n",
        "# the number of features/indicators will be one\n",
        "#Reshape the data into the shape accepted by the LSTM\n",
        "x_test = np.reshape(x_test, (x_test.shape[0],x_test.shape[1],1)) #Reshaping the variable to be 3-Dimensional in the form [samples, time steps, features] for the Neural Network"
      ],
      "execution_count": 0,
      "outputs": []
    },
    {
      "cell_type": "code",
      "metadata": {
        "id": "ojA5gTzfnVxO",
        "colab_type": "code",
        "colab": {}
      },
      "source": [
        "#Getting the models predicted price values\n",
        "predictions = model.predict(x_test) #Getting the models predicted price values\n",
        "predictions = scaler.inverse_transform(predictions) #Undo the scaling"
      ],
      "execution_count": 0,
      "outputs": []
    },
    {
      "cell_type": "code",
      "metadata": {
        "id": "HQJFsQDJnYmn",
        "colab_type": "code",
        "outputId": "7e166bad-f7a2-426a-f912-0aaeb676c1a7",
        "colab": {
          "base_uri": "https://localhost:8080/",
          "height": 34
        }
      },
      "source": [
        "#Get the root mean squared error (rmse)\n",
        "#RMSE is a good measure of how accurately the model predicts the response\n",
        "#(RMSE) is the standard deviation of the residuals (prediction errors).\n",
        "#Lower values of RMSE indicate better fit. \n",
        "#Usually you want to evaluate your model with other metrics as well to truly get an idea of how well your model performs.\n",
        "\n",
        "#Calculate/Get the value of RMSE\n",
        "rmse=np.sqrt(np.mean((predictions- y_test)**2))\n",
        "rmse"
      ],
      "execution_count": 32,
      "outputs": [
        {
          "output_type": "execute_result",
          "data": {
            "text/plain": [
              "5.878704242276481"
            ]
          },
          "metadata": {
            "tags": []
          },
          "execution_count": 32
        }
      ]
    },
    {
      "cell_type": "code",
      "metadata": {
        "id": "4MkIDy0fng03",
        "colab_type": "code",
        "outputId": "9d72ed79-d4be-49d1-8331-1f9803e1f1ad",
        "colab": {
          "base_uri": "https://localhost:8080/",
          "height": 664
        }
      },
      "source": [
        "#Plot the data\n",
        "train = data[:training_data_len] # A dataframe to get rows from index 0 to 1602 (1603 rows total)\n",
        "valid = data[training_data_len:] # A dataframe to get rows from index 1603 to the end of the list \n",
        "valid['Predictions'] = predictions #Create a new column called 'Predictions' that will hold the predicted prices\n",
        "\n",
        "#Visualize the data\n",
        "plt.figure(figsize=(16,8))\n",
        "plt.title('Model')\n",
        "plt.xlabel('Date',fontsize=18)\n",
        "plt.ylabel('Close Price USD ($)',fontsize=18)\n",
        "plt.plot(train['Close'])\n",
        "plt.plot(valid[['Close','Predictions']])\n",
        "plt.legend(['Train', 'Val', 'Prediction' ], loc='lower right')\n",
        "plt.show()"
      ],
      "execution_count": 48,
      "outputs": [
        {
          "output_type": "stream",
          "text": [
            "/usr/local/lib/python3.6/dist-packages/ipykernel_launcher.py:3: SettingWithCopyWarning: \n",
            "A value is trying to be set on a copy of a slice from a DataFrame.\n",
            "Try using .loc[row_indexer,col_indexer] = value instead\n",
            "\n",
            "See the caveats in the documentation: http://pandas.pydata.org/pandas-docs/stable/user_guide/indexing.html#returning-a-view-versus-a-copy\n",
            "  This is separate from the ipykernel package so we can avoid doing imports until\n"
          ],
          "name": "stderr"
        },
        {
          "output_type": "display_data",
          "data": {
            "image/png": "[encoded data removed]",
            "text/plain": [
              "<Figure size 1152x576 with 1 Axes>"
            ]
          },
          "metadata": {
            "tags": []
          }
        }
      ]
    },
    {
      "cell_type": "code",
      "metadata": {
        "id": "6DFcVnwIllSB",
        "colab_type": "code",
        "outputId": "c703804c-bc74-414a-aa9c-15b2e3464e7a",
        "colab": {
          "base_uri": "https://localhost:8080/",
          "height": 1000
        }
      },
      "source": [
        "#Show the valid/actual/close prices and predicted prices\n",
        "valid"
      ],
      "execution_count": 49,
      "outputs": [
        {
          "output_type": "execute_result",
          "data": {
            "text/html": [
              "<div>\n",
              "<style scoped>\n",
              "    .dataframe tbody tr th:only-of-type {\n",
              "        vertical-align: middle;\n",
              "    }\n",
              "\n",
              "    .dataframe tbody tr th {\n",
              "        vertical-align: top;\n",
              "    }\n",
              "\n",
              "    .dataframe thead th {\n",
              "        text-align: right;\n",
              "    }\n",
              "</style>\n",
              "<table border=\"1\" class=\"dataframe\">\n",
              "  <thead>\n",
              "    <tr style=\"text-align: right;\">\n",
              "      <th></th>\n",
              "      <th>Close</th>\n",
              "      <th>Predictions</th>\n",
              "    </tr>\n",
              "    <tr>\n",
              "      <th>Date</th>\n",
              "      <th></th>\n",
              "      <th></th>\n",
              "    </tr>\n",
              "  </thead>\n",
              "  <tbody>\n",
              "    <tr>\n",
              "      <th>2019-10-31</th>\n",
              "      <td>59.299999</td>\n",
              "      <td>59.661606</td>\n",
              "    </tr>\n",
              "    <tr>\n",
              "      <th>2019-11-01</th>\n",
              "      <td>59.500000</td>\n",
              "      <td>59.588161</td>\n",
              "    </tr>\n",
              "    <tr>\n",
              "      <th>2019-11-04</th>\n",
              "      <td>59.700001</td>\n",
              "      <td>59.573563</td>\n",
              "    </tr>\n",
              "    <tr>\n",
              "      <th>2019-11-05</th>\n",
              "      <td>58.700001</td>\n",
              "      <td>59.605972</td>\n",
              "    </tr>\n",
              "    <tr>\n",
              "      <th>2019-11-06</th>\n",
              "      <td>58.900002</td>\n",
              "      <td>59.591648</td>\n",
              "    </tr>\n",
              "    <tr>\n",
              "      <th>2019-11-07</th>\n",
              "      <td>58.750000</td>\n",
              "      <td>59.568527</td>\n",
              "    </tr>\n",
              "    <tr>\n",
              "      <th>2019-11-08</th>\n",
              "      <td>59.549999</td>\n",
              "      <td>59.531906</td>\n",
              "    </tr>\n",
              "    <tr>\n",
              "      <th>2019-11-11</th>\n",
              "      <td>57.500000</td>\n",
              "      <td>59.546749</td>\n",
              "    </tr>\n",
              "    <tr>\n",
              "      <th>2019-11-13</th>\n",
              "      <td>55.400002</td>\n",
              "      <td>59.444889</td>\n",
              "    </tr>\n",
              "    <tr>\n",
              "      <th>2019-11-14</th>\n",
              "      <td>54.650002</td>\n",
              "      <td>59.145901</td>\n",
              "    </tr>\n",
              "    <tr>\n",
              "      <th>2019-11-15</th>\n",
              "      <td>54.500000</td>\n",
              "      <td>58.716969</td>\n",
              "    </tr>\n",
              "    <tr>\n",
              "      <th>2019-11-18</th>\n",
              "      <td>55.950001</td>\n",
              "      <td>58.244617</td>\n",
              "    </tr>\n",
              "    <tr>\n",
              "      <th>2019-11-19</th>\n",
              "      <td>55.750000</td>\n",
              "      <td>57.886787</td>\n",
              "    </tr>\n",
              "    <tr>\n",
              "      <th>2019-11-20</th>\n",
              "      <td>55.400002</td>\n",
              "      <td>57.605324</td>\n",
              "    </tr>\n",
              "    <tr>\n",
              "      <th>2019-11-21</th>\n",
              "      <td>54.849998</td>\n",
              "      <td>57.365494</td>\n",
              "    </tr>\n",
              "    <tr>\n",
              "      <th>2019-11-22</th>\n",
              "      <td>55.150002</td>\n",
              "      <td>57.131844</td>\n",
              "    </tr>\n",
              "    <tr>\n",
              "      <th>2019-11-25</th>\n",
              "      <td>55.950001</td>\n",
              "      <td>56.942055</td>\n",
              "    </tr>\n",
              "    <tr>\n",
              "      <th>2019-11-26</th>\n",
              "      <td>56.650002</td>\n",
              "      <td>56.845497</td>\n",
              "    </tr>\n",
              "    <tr>\n",
              "      <th>2019-11-27</th>\n",
              "      <td>56.799999</td>\n",
              "      <td>56.854214</td>\n",
              "    </tr>\n",
              "    <tr>\n",
              "      <th>2019-11-28</th>\n",
              "      <td>56.450001</td>\n",
              "      <td>56.929386</td>\n",
              "    </tr>\n",
              "    <tr>\n",
              "      <th>2019-11-29</th>\n",
              "      <td>57.349998</td>\n",
              "      <td>57.011177</td>\n",
              "    </tr>\n",
              "    <tr>\n",
              "      <th>2019-12-02</th>\n",
              "      <td>56.349998</td>\n",
              "      <td>57.151192</td>\n",
              "    </tr>\n",
              "    <tr>\n",
              "      <th>2019-12-03</th>\n",
              "      <td>55.450001</td>\n",
              "      <td>57.243080</td>\n",
              "    </tr>\n",
              "    <tr>\n",
              "      <th>2019-12-04</th>\n",
              "      <td>55.849998</td>\n",
              "      <td>57.241249</td>\n",
              "    </tr>\n",
              "    <tr>\n",
              "      <th>2019-12-05</th>\n",
              "      <td>55.799999</td>\n",
              "      <td>57.216507</td>\n",
              "    </tr>\n",
              "    <tr>\n",
              "      <th>2019-12-06</th>\n",
              "      <td>53.500000</td>\n",
              "      <td>57.177456</td>\n",
              "    </tr>\n",
              "    <tr>\n",
              "      <th>2019-12-09</th>\n",
              "      <td>52.450001</td>\n",
              "      <td>56.978813</td>\n",
              "    </tr>\n",
              "    <tr>\n",
              "      <th>2019-12-10</th>\n",
              "      <td>51.400002</td>\n",
              "      <td>56.642391</td>\n",
              "    </tr>\n",
              "    <tr>\n",
              "      <th>2019-12-11</th>\n",
              "      <td>52.799999</td>\n",
              "      <td>56.191063</td>\n",
              "    </tr>\n",
              "    <tr>\n",
              "      <th>2019-12-12</th>\n",
              "      <td>53.349998</td>\n",
              "      <td>55.808876</td>\n",
              "    </tr>\n",
              "    <tr>\n",
              "      <th>2019-12-13</th>\n",
              "      <td>54.000000</td>\n",
              "      <td>55.530674</td>\n",
              "    </tr>\n",
              "    <tr>\n",
              "      <th>2019-12-16</th>\n",
              "      <td>55.000000</td>\n",
              "      <td>55.374283</td>\n",
              "    </tr>\n",
              "    <tr>\n",
              "      <th>2019-12-17</th>\n",
              "      <td>56.049999</td>\n",
              "      <td>55.362648</td>\n",
              "    </tr>\n",
              "    <tr>\n",
              "      <th>2019-12-18</th>\n",
              "      <td>55.500000</td>\n",
              "      <td>55.500015</td>\n",
              "    </tr>\n",
              "    <tr>\n",
              "      <th>2019-12-19</th>\n",
              "      <td>55.700001</td>\n",
              "      <td>55.670944</td>\n",
              "    </tr>\n",
              "    <tr>\n",
              "      <th>2019-12-20</th>\n",
              "      <td>55.450001</td>\n",
              "      <td>55.860191</td>\n",
              "    </tr>\n",
              "    <tr>\n",
              "      <th>2019-12-23</th>\n",
              "      <td>55.750000</td>\n",
              "      <td>56.027359</td>\n",
              "    </tr>\n",
              "    <tr>\n",
              "      <th>2019-12-24</th>\n",
              "      <td>56.099998</td>\n",
              "      <td>56.189018</td>\n",
              "    </tr>\n",
              "    <tr>\n",
              "      <th>2019-12-26</th>\n",
              "      <td>55.150002</td>\n",
              "      <td>56.357571</td>\n",
              "    </tr>\n",
              "    <tr>\n",
              "      <th>2019-12-27</th>\n",
              "      <td>56.099998</td>\n",
              "      <td>56.451981</td>\n",
              "    </tr>\n",
              "    <tr>\n",
              "      <th>2019-12-30</th>\n",
              "      <td>56.450001</td>\n",
              "      <td>56.562553</td>\n",
              "    </tr>\n",
              "    <tr>\n",
              "      <th>2019-12-31</th>\n",
              "      <td>56.500000</td>\n",
              "      <td>56.695419</td>\n",
              "    </tr>\n",
              "    <tr>\n",
              "      <th>2020-01-01</th>\n",
              "      <td>57.599998</td>\n",
              "      <td>56.832443</td>\n",
              "    </tr>\n",
              "    <tr>\n",
              "      <th>2020-01-02</th>\n",
              "      <td>58.000000</td>\n",
              "      <td>57.034584</td>\n",
              "    </tr>\n",
              "    <tr>\n",
              "      <th>2020-01-03</th>\n",
              "      <td>57.750000</td>\n",
              "      <td>57.281815</td>\n",
              "    </tr>\n",
              "    <tr>\n",
              "      <th>2020-01-06</th>\n",
              "      <td>56.750000</td>\n",
              "      <td>57.515987</td>\n",
              "    </tr>\n",
              "    <tr>\n",
              "      <th>2020-01-07</th>\n",
              "      <td>56.599998</td>\n",
              "      <td>57.655819</td>\n",
              "    </tr>\n",
              "    <tr>\n",
              "      <th>2020-01-08</th>\n",
              "      <td>56.250000</td>\n",
              "      <td>57.723377</td>\n",
              "    </tr>\n",
              "    <tr>\n",
              "      <th>2020-01-09</th>\n",
              "      <td>58.099998</td>\n",
              "      <td>57.722172</td>\n",
              "    </tr>\n",
              "  </tbody>\n",
              "</table>\n",
              "</div>"
            ],
            "text/plain": [
              "                Close  Predictions\n",
              "Date                              \n",
              "2019-10-31  59.299999    59.661606\n",
              "2019-11-01  59.500000    59.588161\n",
              "2019-11-04  59.700001    59.573563\n",
              "2019-11-05  58.700001    59.605972\n",
              "2019-11-06  58.900002    59.591648\n",
              "2019-11-07  58.750000    59.568527\n",
              "2019-11-08  59.549999    59.531906\n",
              "2019-11-11  57.500000    59.546749\n",
              "2019-11-13  55.400002    59.444889\n",
              "2019-11-14  54.650002    59.145901\n",
              "2019-11-15  54.500000    58.716969\n",
              "2019-11-18  55.950001    58.244617\n",
              "2019-11-19  55.750000    57.886787\n",
              "2019-11-20  55.400002    57.605324\n",
              "2019-11-21  54.849998    57.365494\n",
              "2019-11-22  55.150002    57.131844\n",
              "2019-11-25  55.950001    56.942055\n",
              "2019-11-26  56.650002    56.845497\n",
              "2019-11-27  56.799999    56.854214\n",
              "2019-11-28  56.450001    56.929386\n",
              "2019-11-29  57.349998    57.011177\n",
              "2019-12-02  56.349998    57.151192\n",
              "2019-12-03  55.450001    57.243080\n",
              "2019-12-04  55.849998    57.241249\n",
              "2019-12-05  55.799999    57.216507\n",
              "2019-12-06  53.500000    57.177456\n",
              "2019-12-09  52.450001    56.978813\n",
              "2019-12-10  51.400002    56.642391\n",
              "2019-12-11  52.799999    56.191063\n",
              "2019-12-12  53.349998    55.808876\n",
              "2019-12-13  54.000000    55.530674\n",
              "2019-12-16  55.000000    55.374283\n",
              "2019-12-17  56.049999    55.362648\n",
              "2019-12-18  55.500000    55.500015\n",
              "2019-12-19  55.700001    55.670944\n",
              "2019-12-20  55.450001    55.860191\n",
              "2019-12-23  55.750000    56.027359\n",
              "2019-12-24  56.099998    56.189018\n",
              "2019-12-26  55.150002    56.357571\n",
              "2019-12-27  56.099998    56.451981\n",
              "2019-12-30  56.450001    56.562553\n",
              "2019-12-31  56.500000    56.695419\n",
              "2020-01-01  57.599998    56.832443\n",
              "2020-01-02  58.000000    57.034584\n",
              "2020-01-03  57.750000    57.281815\n",
              "2020-01-06  56.750000    57.515987\n",
              "2020-01-07  56.599998    57.655819\n",
              "2020-01-08  56.250000    57.723377\n",
              "2020-01-09  58.099998    57.722172"
            ]
          },
          "metadata": {
            "tags": []
          },
          "execution_count": 49
        }
      ]
    },
    {
      "cell_type": "code",
      "metadata": {
        "id": "I7_Y_lBk9DwN",
        "colab_type": "code",
        "outputId": "e2175602-d121-47f6-d3d0-493500b68850",
        "colab": {
          "base_uri": "https://localhost:8080/",
          "height": 34
        }
      },
      "source": [
        "#Get the quote from '2012-01-01' to '2019-12-17' to predict the closing price for '2019-12-18'\n",
        "apple_quote = web.DataReader(stock, data_source='yahoo', start=stdate, end=endate) \n",
        "\n",
        "#Create a new dataframe with only the 'Close' column\n",
        "new_df = apple_quote.filter(['Close']) \n",
        "#Get the last 60 rows of data from the stock/ aka get the past 60 days of the stock and convert it to an array and store it in a variable\n",
        "last_60_days = new_df[-60:].values \n",
        "\n",
        "#Transform the data to values between 0 and 1\n",
        "last_60_days_scaled  = scaler.transform(last_60_days) \n",
        "\n",
        "#Create an empty list\n",
        "X_test = [] \n",
        "#Append the data (the past 60 values to predict the 61st value)\n",
        "X_test.append(last_60_days_scaled) \n",
        "#Convert X_test to a numpy array so we can use it to test and make predictions using the LSTM model we created\n",
        "X_test = np.array(X_test) \n",
        "#Reshape the data\n",
        "X_test = np.reshape(X_test, (X_test.shape[0],X_test.shape[1],1))\n",
        "\n",
        "#Get the predicted scaled price\n",
        "pred_price = model.predict(X_test) \n",
        "#Undo the scaling\n",
        "pred_price = scaler.inverse_transform(pred_price) \n",
        "print(pred_price)#Print the predicted price\n",
        "\n"
      ],
      "execution_count": 50,
      "outputs": [
        {
          "output_type": "stream",
          "text": [
            "[[57.813168]]\n"
          ],
          "name": "stdout"
        }
      ]
    },
    {
      "cell_type": "code",
      "metadata": {
        "id": "eJODAiqfEpUg",
        "colab_type": "code",
        "outputId": "71811ba9-1710-403b-dab2-ddc1e71aef01",
        "colab": {
          "base_uri": "https://localhost:8080/",
          "height": 70
        }
      },
      "source": [
        "#Get the actual closing price for that day\n",
        "#from datetime import datetime\n",
        "today = '2020-01-09'\n",
        "#today = datetime.today().strftime('%Y-%m-%d') #Get todays date and format it in the form YYYY-MM-DD\n",
        "todays_price = web.DataReader(stock, data_source='yahoo', start=today, end=today) #Get the stock price for today\n",
        "print(todays_price['Close']) #Print the closing price of the stock for today\n"
      ],
      "execution_count": 53,
      "outputs": [
        {
          "output_type": "stream",
          "text": [
            "Date\n",
            "2020-01-09    58.099998\n",
            "Name: Close, dtype: float64\n"
          ],
          "name": "stdout"
        }
      ]
    }
  ]
}