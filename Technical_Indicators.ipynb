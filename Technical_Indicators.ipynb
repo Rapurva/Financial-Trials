{
  "nbformat": 4,
  "nbformat_minor": 0,
  "metadata": {
    "colab": {
      "name": "Technical_Indicators.ipynb",
      "provenance": [],
      "authorship_tag": "ABX9TyMcMbar3rkigEHr4hcpwL6i",
      "include_colab_link": true
    },
    "kernelspec": {
      "name": "python3",
      "display_name": "Python 3"
    }
  },
  "cells": [
    {
      "cell_type": "markdown",
      "metadata": {
        "id": "view-in-github",
        "colab_type": "text"
      },
      "source": [
        "<a href=\"https://colab.research.google.com/github/Rapurva/Financial-Trials/blob/master/Technical_Indicators.ipynb\" target=\"_parent\"><img src=\"https://colab.research.google.com/assets/colab-badge.svg\" alt=\"Open In Colab\"/></a>"
      ]
    },
    {
      "cell_type": "code",
      "metadata": {
        "id": "MdN5MDlaUtf_",
        "colab_type": "code",
        "colab": {
          "base_uri": "https://localhost:8080/",
          "height": 34
        },
        "outputId": "9145e961-01da-41d3-cbfe-a593855b4632"
      },
      "source": [
        "!pip install utils"
      ],
      "execution_count": 1,
      "outputs": [
        {
          "output_type": "stream",
          "text": [
            "Requirement already satisfied: utils in /usr/local/lib/python3.6/dist-packages (1.0.0)\n"
          ],
          "name": "stdout"
        }
      ]
    },
    {
      "cell_type": "code",
      "metadata": {
        "id": "Lz33EIyZUtR_",
        "colab_type": "code",
        "colab": {
          "base_uri": "https://localhost:8080/",
          "height": 158
        },
        "outputId": "08698344-7299-4e29-c12d-68508a308e62"
      },
      "source": [
        "!pip install mxnet"
      ],
      "execution_count": 2,
      "outputs": [
        {
          "output_type": "stream",
          "text": [
            "Requirement already satisfied: mxnet in /usr/local/lib/python3.6/dist-packages (1.5.1.post0)\n",
            "Requirement already satisfied: requests<3,>=2.20.0 in /usr/local/lib/python3.6/dist-packages (from mxnet) (2.21.0)\n",
            "Requirement already satisfied: graphviz<0.9.0,>=0.8.1 in /usr/local/lib/python3.6/dist-packages (from mxnet) (0.8.4)\n",
            "Requirement already satisfied: numpy<2.0.0,>1.16.0 in /usr/local/lib/python3.6/dist-packages (from mxnet) (1.17.5)\n",
            "Requirement already satisfied: urllib3<1.25,>=1.21.1 in /usr/local/lib/python3.6/dist-packages (from requests<3,>=2.20.0->mxnet) (1.24.3)\n",
            "Requirement already satisfied: certifi>=2017.4.17 in /usr/local/lib/python3.6/dist-packages (from requests<3,>=2.20.0->mxnet) (2019.11.28)\n",
            "Requirement already satisfied: idna<2.9,>=2.5 in /usr/local/lib/python3.6/dist-packages (from requests<3,>=2.20.0->mxnet) (2.8)\n",
            "Requirement already satisfied: chardet<3.1.0,>=3.0.2 in /usr/local/lib/python3.6/dist-packages (from requests<3,>=2.20.0->mxnet) (3.0.4)\n"
          ],
          "name": "stdout"
        }
      ]
    },
    {
      "cell_type": "code",
      "metadata": {
        "id": "_5v-k1hIUkRi",
        "colab_type": "code",
        "colab": {}
      },
      "source": [
        "from utils import *\n",
        "import time\n",
        "import numpy as np\n",
        "\n",
        "from mxnet import nd, autograd, gluon\n",
        "from mxnet.gluon import nn, rnn\n",
        "import mxnet as mx\n",
        "import datetime\n",
        "import seaborn as sns\n",
        "import pandas as pd\n",
        "\n",
        "import matplotlib.pyplot as plt\n",
        "%matplotlib inline\n",
        "from sklearn.decomposition import PCA\n",
        "\n",
        "import math\n",
        "\n",
        "from sklearn.preprocessing import MinMaxScaler\n",
        "from sklearn.metrics import mean_squared_error\n",
        "from sklearn.preprocessing import StandardScaler\n",
        "\n",
        "import xgboost as xgb\n",
        "from sklearn.metrics import accuracy_score"
      ],
      "execution_count": 0,
      "outputs": []
    },
    {
      "cell_type": "code",
      "metadata": {
        "id": "FTnvsgu5UkOq",
        "colab_type": "code",
        "colab": {}
      },
      "source": [
        "import warnings\n",
        "warnings.filterwarnings(\"ignore\")\n",
        "context = mx.cpu(); model_ctx=mx.cpu()\n",
        "mx.random.seed(1719)"
      ],
      "execution_count": 0,
      "outputs": []
    },
    {
      "cell_type": "code",
      "metadata": {
        "id": "TZ447jA0KeVw",
        "colab_type": "code",
        "colab": {
          "base_uri": "https://localhost:8080/",
          "height": 195
        },
        "outputId": "03d79025-461e-4425-b863-31df06a924ca"
      },
      "source": [
        "import pandas_datareader as web\n",
        "stock = 'AUROPHARMA.NS'\n",
        "stdate = '2010-01-01'\n",
        "endate = '2020-01-08'\n",
        "#Get the Stock Quote: The price of a stock as quoted on an exchange\n",
        "dataset_ex_df = web.DataReader(stock, data_source='yahoo', start=stdate, end=endate) #end = '2017-12-31', format = 'YYYY-MM-DD'\n",
        "#Show the data\n",
        "dataset_ex_df.reset_index(level=0, inplace=True)\n",
        "dataset_ex_df.head()"
      ],
      "execution_count": 49,
      "outputs": [
        {
          "output_type": "execute_result",
          "data": {
            "text/html": [
              "<div>\n",
              "<style scoped>\n",
              "    .dataframe tbody tr th:only-of-type {\n",
              "        vertical-align: middle;\n",
              "    }\n",
              "\n",
              "    .dataframe tbody tr th {\n",
              "        vertical-align: top;\n",
              "    }\n",
              "\n",
              "    .dataframe thead th {\n",
              "        text-align: right;\n",
              "    }\n",
              "</style>\n",
              "<table border=\"1\" class=\"dataframe\">\n",
              "  <thead>\n",
              "    <tr style=\"text-align: right;\">\n",
              "      <th></th>\n",
              "      <th>Date</th>\n",
              "      <th>High</th>\n",
              "      <th>Low</th>\n",
              "      <th>Open</th>\n",
              "      <th>Close</th>\n",
              "      <th>Volume</th>\n",
              "      <th>Adj Close</th>\n",
              "    </tr>\n",
              "  </thead>\n",
              "  <tbody>\n",
              "    <tr>\n",
              "      <th>0</th>\n",
              "      <td>2010-01-04</td>\n",
              "      <td>93.000000</td>\n",
              "      <td>89.830002</td>\n",
              "      <td>91.500000</td>\n",
              "      <td>92.695000</td>\n",
              "      <td>1352610.0</td>\n",
              "      <td>71.334839</td>\n",
              "    </tr>\n",
              "    <tr>\n",
              "      <th>1</th>\n",
              "      <td>2010-01-05</td>\n",
              "      <td>94.489998</td>\n",
              "      <td>90.099998</td>\n",
              "      <td>94.489998</td>\n",
              "      <td>91.625000</td>\n",
              "      <td>1147940.0</td>\n",
              "      <td>70.511406</td>\n",
              "    </tr>\n",
              "    <tr>\n",
              "      <th>2</th>\n",
              "      <td>2010-01-06</td>\n",
              "      <td>92.570000</td>\n",
              "      <td>90.154999</td>\n",
              "      <td>91.900002</td>\n",
              "      <td>90.745003</td>\n",
              "      <td>1571850.0</td>\n",
              "      <td>69.834190</td>\n",
              "    </tr>\n",
              "    <tr>\n",
              "      <th>3</th>\n",
              "      <td>2010-01-07</td>\n",
              "      <td>91.769997</td>\n",
              "      <td>88.620003</td>\n",
              "      <td>91.769997</td>\n",
              "      <td>88.875000</td>\n",
              "      <td>1824660.0</td>\n",
              "      <td>68.395119</td>\n",
              "    </tr>\n",
              "    <tr>\n",
              "      <th>4</th>\n",
              "      <td>2010-01-08</td>\n",
              "      <td>90.900002</td>\n",
              "      <td>88.199997</td>\n",
              "      <td>88.875000</td>\n",
              "      <td>89.635002</td>\n",
              "      <td>1433440.0</td>\n",
              "      <td>68.979988</td>\n",
              "    </tr>\n",
              "  </tbody>\n",
              "</table>\n",
              "</div>"
            ],
            "text/plain": [
              "        Date       High        Low       Open      Close     Volume  Adj Close\n",
              "0 2010-01-04  93.000000  89.830002  91.500000  92.695000  1352610.0  71.334839\n",
              "1 2010-01-05  94.489998  90.099998  94.489998  91.625000  1147940.0  70.511406\n",
              "2 2010-01-06  92.570000  90.154999  91.900002  90.745003  1571850.0  69.834190\n",
              "3 2010-01-07  91.769997  88.620003  91.769997  88.875000  1824660.0  68.395119\n",
              "4 2010-01-08  90.900002  88.199997  88.875000  89.635002  1433440.0  68.979988"
            ]
          },
          "metadata": {
            "tags": []
          },
          "execution_count": 49
        }
      ]
    },
    {
      "cell_type": "code",
      "metadata": {
        "id": "MoMJQN2_KjYa",
        "colab_type": "code",
        "colab": {
          "base_uri": "https://localhost:8080/",
          "height": 34
        },
        "outputId": "2c82bdd5-5434-48cc-c1d8-c2fb737e748a"
      },
      "source": [
        "print('There are {} number of days in the dataset.'.format(dataset_ex_df.shape[0]))"
      ],
      "execution_count": 6,
      "outputs": [
        {
          "output_type": "stream",
          "text": [
            "There are 2468 number of days in the dataset.\n"
          ],
          "name": "stdout"
        }
      ]
    },
    {
      "cell_type": "code",
      "metadata": {
        "id": "xoE6gmWAXHgH",
        "colab_type": "code",
        "colab": {
          "base_uri": "https://localhost:8080/",
          "height": 34
        },
        "outputId": "5a70a935-6bca-455e-d772-c4bd6affe2da"
      },
      "source": [
        "num_training_days = int(dataset_ex_df.shape[0]*.7)\n",
        "print('Number of training days: {}. Number of test days: {}.'.format(num_training_days, \\\n",
        "                                                                    dataset_ex_df.shape[0]-num_training_days))"
      ],
      "execution_count": 7,
      "outputs": [
        {
          "output_type": "stream",
          "text": [
            "Number of training days: 1727. Number of test days: 741.\n"
          ],
          "name": "stdout"
        }
      ]
    },
    {
      "cell_type": "code",
      "metadata": {
        "id": "4k5F_QoFXjn_",
        "colab_type": "code",
        "colab": {}
      },
      "source": [
        "import time\n",
        "from datetime import datetime\n",
        "dt = dataset_ex_df['Date'][int(dataset_ex_df.shape[0]*.7)].to_pydatetime()"
      ],
      "execution_count": 0,
      "outputs": []
    },
    {
      "cell_type": "code",
      "metadata": {
        "id": "60kKzFJ_WBV8",
        "colab_type": "code",
        "colab": {
          "base_uri": "https://localhost:8080/",
          "height": 480
        },
        "outputId": "f4c2b5da-21b4-48c4-a9f4-092db4c6bf75"
      },
      "source": [
        "plt.figure(figsize=(14, 5), dpi=100)\n",
        "plt.plot(dataset_ex_df['Date'], dataset_ex_df['Close'], label= stock)\n",
        "plt.vlines(dt, 0, 870, linestyles='--', colors='gray', label='Train/Test data cut-off')\n",
        "plt.xlabel('Date')\n",
        "plt.ylabel('INR')\n",
        "plt.title('Figure 2:' + stock + ' price')\n",
        "plt.legend()\n",
        "plt.show()"
      ],
      "execution_count": 9,
      "outputs": [
        {
          "output_type": "display_data",
          "data": {
            "image/png": "[encoded data removed]",
            "text/plain": [
              "<Figure size 1400x500 with 1 Axes>"
            ]
          },
          "metadata": {
            "tags": []
          }
        }
      ]
    },
    {
      "cell_type": "code",
      "metadata": {
        "id": "_OSS5rslrCSf",
        "colab_type": "code",
        "colab": {
          "base_uri": "https://localhost:8080/",
          "height": 140
        },
        "outputId": "2483746f-77ad-4501-b2ce-39e4a85b1f71"
      },
      "source": [
        "!pip install stockstats"
      ],
      "execution_count": 10,
      "outputs": [
        {
          "output_type": "stream",
          "text": [
            "Requirement already satisfied: stockstats in /usr/local/lib/python3.6/dist-packages (0.3.0)\n",
            "Requirement already satisfied: numpy>=1.9.2 in /usr/local/lib/python3.6/dist-packages (from stockstats) (1.17.5)\n",
            "Requirement already satisfied: int-date>=0.1.7 in /usr/local/lib/python3.6/dist-packages (from stockstats) (0.1.8)\n",
            "Requirement already satisfied: pandas>=0.18.1 in /usr/local/lib/python3.6/dist-packages (from stockstats) (0.25.3)\n",
            "Requirement already satisfied: python-dateutil>=2.4.2 in /usr/local/lib/python3.6/dist-packages (from int-date>=0.1.7->stockstats) (2.6.1)\n",
            "Requirement already satisfied: six>=1.9.0 in /usr/local/lib/python3.6/dist-packages (from int-date>=0.1.7->stockstats) (1.12.0)\n",
            "Requirement already satisfied: pytz>=2017.2 in /usr/local/lib/python3.6/dist-packages (from pandas>=0.18.1->stockstats) (2018.9)\n"
          ],
          "name": "stdout"
        }
      ]
    },
    {
      "cell_type": "code",
      "metadata": {
        "id": "GblNiLulub9u",
        "colab_type": "code",
        "colab": {}
      },
      "source": [
        "from stockstats import StockDataFrame as Sdf\n",
        "stockfile = Sdf.retype(dataset_ex_df)"
      ],
      "execution_count": 0,
      "outputs": []
    },
    {
      "cell_type": "code",
      "metadata": {
        "id": "G6_OGlnSWBTZ",
        "colab_type": "code",
        "colab": {}
      },
      "source": [
        "def get_technical_indicators(dataset):\n",
        "  from stockstats import StockDataFrame as Sdf\n",
        "  stockfile = Sdf.retype(dataset)\n",
        "\n",
        "  # Create 7 and 21 days Moving Average\n",
        "  dataset['ma7'] = dataset['close'].rolling(window=7).mean()\n",
        "  dataset['ma21'] = dataset['close'].rolling(window=21).mean()\n",
        "    \n",
        "  # Create MACD\n",
        "  # dataset['MACD'] = stockfile.get('macd')\n",
        "  \n",
        "  # Create Bollinger Bands\n",
        "  dataset['20sd'] = stockfile.get('boll')\n",
        "  dataset['upper_band'] = stockfile.get('boll_ub')\n",
        "  dataset['lower_band'] = stockfile.get('boll_lb')\n",
        "    \n",
        "  # Create Exponential moving average\n",
        "  dataset['ema'] = dataset['close'].ewm(com=0.5).mean()\n",
        "   \n",
        "  # Create Momentum\n",
        "  dataset['momentum'] = dataset['close']-1\n",
        "  return dataset"
      ],
      "execution_count": 0,
      "outputs": []
    },
    {
      "cell_type": "code",
      "metadata": {
        "id": "vHxkVaOOx7rm",
        "colab_type": "code",
        "colab": {
          "base_uri": "https://localhost:8080/",
          "height": 87
        },
        "outputId": "68d413a4-5e61-4d9b-af87-6ce1239322c8"
      },
      "source": [
        "dataset_ex_df.columns"
      ],
      "execution_count": 48,
      "outputs": [
        {
          "output_type": "execute_result",
          "data": {
            "text/plain": [
              "Index(['high', 'low', 'open', 'close', 'volume', 'adj close', 'ma7', 'ma21',\n",
              "       'close_20_sma', 'close_20_mstd', 'boll', 'boll_ub', 'boll_lb', '20sd',\n",
              "       'upper_band', 'lower_band', 'ema', 'momentum'],\n",
              "      dtype='object')"
            ]
          },
          "metadata": {
            "tags": []
          },
          "execution_count": 48
        }
      ]
    },
    {
      "cell_type": "code",
      "metadata": {
        "id": "5CoXhCbIWBPu",
        "colab_type": "code",
        "colab": {}
      },
      "source": [
        "dataset_TI_df = get_technical_indicators(dataset_ex_df)"
      ],
      "execution_count": 0,
      "outputs": []
    },
    {
      "cell_type": "code",
      "metadata": {
        "id": "t1CEu2ZuWBMD",
        "colab_type": "code",
        "colab": {}
      },
      "source": [
        ""
      ],
      "execution_count": 0,
      "outputs": []
    }
  ]
}